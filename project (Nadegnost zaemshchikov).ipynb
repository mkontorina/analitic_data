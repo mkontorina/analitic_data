{
 "cells": [
  {
   "cell_type": "markdown",
   "id": "386f2ae7",
   "metadata": {
    "deletable": false,
    "editable": false,
    "id": "386f2ae7"
   },
   "source": [
    "# Исследование надежности заемщиков\n"
   ]
  },
  {
   "cell_type": "markdown",
   "id": "ffe86f65",
   "metadata": {
    "deletable": false,
    "editable": false,
    "id": "ffe86f65"
   },
   "source": [
    "Во второй части проекта вы выполните шаги 3 и 4. Их вручную проверит ревьюер.\n",
    "Чтобы вам не пришлось писать код заново для шагов 1 и 2, мы добавили авторские решения в ячейки с кодом. \n",
    "\n"
   ]
  },
  {
   "cell_type": "markdown",
   "id": "ea8761c0",
   "metadata": {},
   "source": [
    "## Описание проекта\n",
    "**Заказчик**: кредитный отдел банка. \n",
    "\n",
    "**Цель исследования** - проверить гипотезы: \n",
    "1. Семейное положение влияет на факт погашения кредита в срок. \n",
    "2. Количество детей клиента влияет на факт погашения кредита в срок. \n",
    "\n",
    "**Входные данные от банка**: статистика о платёжеспособности клиентов.\n",
    "\n",
    "**Результаты исследования**: будут учтены при построении модели кредитного скоринга — специальной системы, которая оценивает способность потенциального заёмщика вернуть кредит банку."
   ]
  },
  {
   "cell_type": "markdown",
   "id": "26613308",
   "metadata": {
    "deletable": false,
    "editable": false,
    "id": "26613308"
   },
   "source": [
    "## Откройте таблицу и изучите общую информацию о данных"
   ]
  },
  {
   "cell_type": "markdown",
   "id": "3c9f838e",
   "metadata": {
    "deletable": false,
    "editable": false,
    "id": "3c9f838e"
   },
   "source": [
    "**Задание 1. Импортируйте библиотеку pandas. Считайте данные из csv-файла в датафрейм и сохраните в переменную `data`. Путь к файлу:**\n",
    "\n",
    "`/datasets/data.csv`"
   ]
  },
  {
   "cell_type": "code",
   "execution_count": 11,
   "id": "77a68a90",
   "metadata": {
    "deletable": false,
    "id": "77a68a90"
   },
   "outputs": [],
   "source": [
    "# импорт библиотеки pandas\n",
    "import pandas as pd\n",
    "\n",
    "# чтение csv-файла с данными статистика о платёжеспособности клиентов (/datasets/data.csv) в DataFrame \n",
    "# и сохранение в  переменную \"data\"\n",
    "try:\n",
    "    data = pd.read_csv('/datasets/data.csv')\n",
    "except:\n",
    "    data = pd.read_csv('https://code.s3.yandex.net/datasets/data.csv')"
   ]
  },
  {
   "cell_type": "markdown",
   "id": "45365635",
   "metadata": {
    "deletable": false,
    "editable": false,
    "id": "45365635"
   },
   "source": [
    "**Задание 2. Выведите первые 20 строчек датафрейма `data` на экран.**"
   ]
  },
  {
   "cell_type": "code",
   "execution_count": 12,
   "id": "b0451a9a",
   "metadata": {
    "deletable": false,
    "id": "b0451a9a",
    "outputId": "1a8f3ef2-d323-4ec2-ddf7-89670b5944c4",
    "scrolled": true
   },
   "outputs": [
    {
     "data": {
      "text/html": [
       "<div>\n",
       "<style scoped>\n",
       "    .dataframe tbody tr th:only-of-type {\n",
       "        vertical-align: middle;\n",
       "    }\n",
       "\n",
       "    .dataframe tbody tr th {\n",
       "        vertical-align: top;\n",
       "    }\n",
       "\n",
       "    .dataframe thead th {\n",
       "        text-align: right;\n",
       "    }\n",
       "</style>\n",
       "<table border=\"1\" class=\"dataframe\">\n",
       "  <thead>\n",
       "    <tr style=\"text-align: right;\">\n",
       "      <th></th>\n",
       "      <th>children</th>\n",
       "      <th>days_employed</th>\n",
       "      <th>dob_years</th>\n",
       "      <th>education</th>\n",
       "      <th>education_id</th>\n",
       "      <th>family_status</th>\n",
       "      <th>family_status_id</th>\n",
       "      <th>gender</th>\n",
       "      <th>income_type</th>\n",
       "      <th>debt</th>\n",
       "      <th>total_income</th>\n",
       "      <th>purpose</th>\n",
       "    </tr>\n",
       "  </thead>\n",
       "  <tbody>\n",
       "    <tr>\n",
       "      <th>0</th>\n",
       "      <td>1</td>\n",
       "      <td>-8437.673028</td>\n",
       "      <td>42</td>\n",
       "      <td>высшее</td>\n",
       "      <td>0</td>\n",
       "      <td>женат / замужем</td>\n",
       "      <td>0</td>\n",
       "      <td>F</td>\n",
       "      <td>сотрудник</td>\n",
       "      <td>0</td>\n",
       "      <td>253875.639453</td>\n",
       "      <td>покупка жилья</td>\n",
       "    </tr>\n",
       "    <tr>\n",
       "      <th>1</th>\n",
       "      <td>1</td>\n",
       "      <td>-4024.803754</td>\n",
       "      <td>36</td>\n",
       "      <td>среднее</td>\n",
       "      <td>1</td>\n",
       "      <td>женат / замужем</td>\n",
       "      <td>0</td>\n",
       "      <td>F</td>\n",
       "      <td>сотрудник</td>\n",
       "      <td>0</td>\n",
       "      <td>112080.014102</td>\n",
       "      <td>приобретение автомобиля</td>\n",
       "    </tr>\n",
       "    <tr>\n",
       "      <th>2</th>\n",
       "      <td>0</td>\n",
       "      <td>-5623.422610</td>\n",
       "      <td>33</td>\n",
       "      <td>Среднее</td>\n",
       "      <td>1</td>\n",
       "      <td>женат / замужем</td>\n",
       "      <td>0</td>\n",
       "      <td>M</td>\n",
       "      <td>сотрудник</td>\n",
       "      <td>0</td>\n",
       "      <td>145885.952297</td>\n",
       "      <td>покупка жилья</td>\n",
       "    </tr>\n",
       "    <tr>\n",
       "      <th>3</th>\n",
       "      <td>3</td>\n",
       "      <td>-4124.747207</td>\n",
       "      <td>32</td>\n",
       "      <td>среднее</td>\n",
       "      <td>1</td>\n",
       "      <td>женат / замужем</td>\n",
       "      <td>0</td>\n",
       "      <td>M</td>\n",
       "      <td>сотрудник</td>\n",
       "      <td>0</td>\n",
       "      <td>267628.550329</td>\n",
       "      <td>дополнительное образование</td>\n",
       "    </tr>\n",
       "    <tr>\n",
       "      <th>4</th>\n",
       "      <td>0</td>\n",
       "      <td>340266.072047</td>\n",
       "      <td>53</td>\n",
       "      <td>среднее</td>\n",
       "      <td>1</td>\n",
       "      <td>гражданский брак</td>\n",
       "      <td>1</td>\n",
       "      <td>F</td>\n",
       "      <td>пенсионер</td>\n",
       "      <td>0</td>\n",
       "      <td>158616.077870</td>\n",
       "      <td>сыграть свадьбу</td>\n",
       "    </tr>\n",
       "    <tr>\n",
       "      <th>5</th>\n",
       "      <td>0</td>\n",
       "      <td>-926.185831</td>\n",
       "      <td>27</td>\n",
       "      <td>высшее</td>\n",
       "      <td>0</td>\n",
       "      <td>гражданский брак</td>\n",
       "      <td>1</td>\n",
       "      <td>M</td>\n",
       "      <td>компаньон</td>\n",
       "      <td>0</td>\n",
       "      <td>255763.565419</td>\n",
       "      <td>покупка жилья</td>\n",
       "    </tr>\n",
       "    <tr>\n",
       "      <th>6</th>\n",
       "      <td>0</td>\n",
       "      <td>-2879.202052</td>\n",
       "      <td>43</td>\n",
       "      <td>высшее</td>\n",
       "      <td>0</td>\n",
       "      <td>женат / замужем</td>\n",
       "      <td>0</td>\n",
       "      <td>F</td>\n",
       "      <td>компаньон</td>\n",
       "      <td>0</td>\n",
       "      <td>240525.971920</td>\n",
       "      <td>операции с жильем</td>\n",
       "    </tr>\n",
       "    <tr>\n",
       "      <th>7</th>\n",
       "      <td>0</td>\n",
       "      <td>-152.779569</td>\n",
       "      <td>50</td>\n",
       "      <td>СРЕДНЕЕ</td>\n",
       "      <td>1</td>\n",
       "      <td>женат / замужем</td>\n",
       "      <td>0</td>\n",
       "      <td>M</td>\n",
       "      <td>сотрудник</td>\n",
       "      <td>0</td>\n",
       "      <td>135823.934197</td>\n",
       "      <td>образование</td>\n",
       "    </tr>\n",
       "    <tr>\n",
       "      <th>8</th>\n",
       "      <td>2</td>\n",
       "      <td>-6929.865299</td>\n",
       "      <td>35</td>\n",
       "      <td>ВЫСШЕЕ</td>\n",
       "      <td>0</td>\n",
       "      <td>гражданский брак</td>\n",
       "      <td>1</td>\n",
       "      <td>F</td>\n",
       "      <td>сотрудник</td>\n",
       "      <td>0</td>\n",
       "      <td>95856.832424</td>\n",
       "      <td>на проведение свадьбы</td>\n",
       "    </tr>\n",
       "    <tr>\n",
       "      <th>9</th>\n",
       "      <td>0</td>\n",
       "      <td>-2188.756445</td>\n",
       "      <td>41</td>\n",
       "      <td>среднее</td>\n",
       "      <td>1</td>\n",
       "      <td>женат / замужем</td>\n",
       "      <td>0</td>\n",
       "      <td>M</td>\n",
       "      <td>сотрудник</td>\n",
       "      <td>0</td>\n",
       "      <td>144425.938277</td>\n",
       "      <td>покупка жилья для семьи</td>\n",
       "    </tr>\n",
       "    <tr>\n",
       "      <th>10</th>\n",
       "      <td>2</td>\n",
       "      <td>-4171.483647</td>\n",
       "      <td>36</td>\n",
       "      <td>высшее</td>\n",
       "      <td>0</td>\n",
       "      <td>женат / замужем</td>\n",
       "      <td>0</td>\n",
       "      <td>M</td>\n",
       "      <td>компаньон</td>\n",
       "      <td>0</td>\n",
       "      <td>113943.491460</td>\n",
       "      <td>покупка недвижимости</td>\n",
       "    </tr>\n",
       "    <tr>\n",
       "      <th>11</th>\n",
       "      <td>0</td>\n",
       "      <td>-792.701887</td>\n",
       "      <td>40</td>\n",
       "      <td>среднее</td>\n",
       "      <td>1</td>\n",
       "      <td>женат / замужем</td>\n",
       "      <td>0</td>\n",
       "      <td>F</td>\n",
       "      <td>сотрудник</td>\n",
       "      <td>0</td>\n",
       "      <td>77069.234271</td>\n",
       "      <td>покупка коммерческой недвижимости</td>\n",
       "    </tr>\n",
       "    <tr>\n",
       "      <th>12</th>\n",
       "      <td>0</td>\n",
       "      <td>NaN</td>\n",
       "      <td>65</td>\n",
       "      <td>среднее</td>\n",
       "      <td>1</td>\n",
       "      <td>гражданский брак</td>\n",
       "      <td>1</td>\n",
       "      <td>M</td>\n",
       "      <td>пенсионер</td>\n",
       "      <td>0</td>\n",
       "      <td>NaN</td>\n",
       "      <td>сыграть свадьбу</td>\n",
       "    </tr>\n",
       "    <tr>\n",
       "      <th>13</th>\n",
       "      <td>0</td>\n",
       "      <td>-1846.641941</td>\n",
       "      <td>54</td>\n",
       "      <td>неоконченное высшее</td>\n",
       "      <td>2</td>\n",
       "      <td>женат / замужем</td>\n",
       "      <td>0</td>\n",
       "      <td>F</td>\n",
       "      <td>сотрудник</td>\n",
       "      <td>0</td>\n",
       "      <td>130458.228857</td>\n",
       "      <td>приобретение автомобиля</td>\n",
       "    </tr>\n",
       "    <tr>\n",
       "      <th>14</th>\n",
       "      <td>0</td>\n",
       "      <td>-1844.956182</td>\n",
       "      <td>56</td>\n",
       "      <td>высшее</td>\n",
       "      <td>0</td>\n",
       "      <td>гражданский брак</td>\n",
       "      <td>1</td>\n",
       "      <td>F</td>\n",
       "      <td>компаньон</td>\n",
       "      <td>1</td>\n",
       "      <td>165127.911772</td>\n",
       "      <td>покупка жилой недвижимости</td>\n",
       "    </tr>\n",
       "    <tr>\n",
       "      <th>15</th>\n",
       "      <td>1</td>\n",
       "      <td>-972.364419</td>\n",
       "      <td>26</td>\n",
       "      <td>среднее</td>\n",
       "      <td>1</td>\n",
       "      <td>женат / замужем</td>\n",
       "      <td>0</td>\n",
       "      <td>F</td>\n",
       "      <td>сотрудник</td>\n",
       "      <td>0</td>\n",
       "      <td>116820.904450</td>\n",
       "      <td>строительство собственной недвижимости</td>\n",
       "    </tr>\n",
       "    <tr>\n",
       "      <th>16</th>\n",
       "      <td>0</td>\n",
       "      <td>-1719.934226</td>\n",
       "      <td>35</td>\n",
       "      <td>среднее</td>\n",
       "      <td>1</td>\n",
       "      <td>женат / замужем</td>\n",
       "      <td>0</td>\n",
       "      <td>F</td>\n",
       "      <td>сотрудник</td>\n",
       "      <td>0</td>\n",
       "      <td>289202.704229</td>\n",
       "      <td>недвижимость</td>\n",
       "    </tr>\n",
       "    <tr>\n",
       "      <th>17</th>\n",
       "      <td>0</td>\n",
       "      <td>-2369.999720</td>\n",
       "      <td>33</td>\n",
       "      <td>высшее</td>\n",
       "      <td>0</td>\n",
       "      <td>гражданский брак</td>\n",
       "      <td>1</td>\n",
       "      <td>M</td>\n",
       "      <td>сотрудник</td>\n",
       "      <td>0</td>\n",
       "      <td>90410.586745</td>\n",
       "      <td>строительство недвижимости</td>\n",
       "    </tr>\n",
       "    <tr>\n",
       "      <th>18</th>\n",
       "      <td>0</td>\n",
       "      <td>400281.136913</td>\n",
       "      <td>53</td>\n",
       "      <td>среднее</td>\n",
       "      <td>1</td>\n",
       "      <td>вдовец / вдова</td>\n",
       "      <td>2</td>\n",
       "      <td>F</td>\n",
       "      <td>пенсионер</td>\n",
       "      <td>0</td>\n",
       "      <td>56823.777243</td>\n",
       "      <td>на покупку подержанного автомобиля</td>\n",
       "    </tr>\n",
       "    <tr>\n",
       "      <th>19</th>\n",
       "      <td>0</td>\n",
       "      <td>-10038.818549</td>\n",
       "      <td>48</td>\n",
       "      <td>СРЕДНЕЕ</td>\n",
       "      <td>1</td>\n",
       "      <td>в разводе</td>\n",
       "      <td>3</td>\n",
       "      <td>F</td>\n",
       "      <td>сотрудник</td>\n",
       "      <td>0</td>\n",
       "      <td>242831.107982</td>\n",
       "      <td>на покупку своего автомобиля</td>\n",
       "    </tr>\n",
       "  </tbody>\n",
       "</table>\n",
       "</div>"
      ],
      "text/plain": [
       "    children  days_employed  dob_years            education  education_id  \\\n",
       "0          1   -8437.673028         42               высшее             0   \n",
       "1          1   -4024.803754         36              среднее             1   \n",
       "2          0   -5623.422610         33              Среднее             1   \n",
       "3          3   -4124.747207         32              среднее             1   \n",
       "4          0  340266.072047         53              среднее             1   \n",
       "5          0    -926.185831         27               высшее             0   \n",
       "6          0   -2879.202052         43               высшее             0   \n",
       "7          0    -152.779569         50              СРЕДНЕЕ             1   \n",
       "8          2   -6929.865299         35               ВЫСШЕЕ             0   \n",
       "9          0   -2188.756445         41              среднее             1   \n",
       "10         2   -4171.483647         36               высшее             0   \n",
       "11         0    -792.701887         40              среднее             1   \n",
       "12         0            NaN         65              среднее             1   \n",
       "13         0   -1846.641941         54  неоконченное высшее             2   \n",
       "14         0   -1844.956182         56               высшее             0   \n",
       "15         1    -972.364419         26              среднее             1   \n",
       "16         0   -1719.934226         35              среднее             1   \n",
       "17         0   -2369.999720         33               высшее             0   \n",
       "18         0  400281.136913         53              среднее             1   \n",
       "19         0  -10038.818549         48              СРЕДНЕЕ             1   \n",
       "\n",
       "       family_status  family_status_id gender income_type  debt  \\\n",
       "0    женат / замужем                 0      F   сотрудник     0   \n",
       "1    женат / замужем                 0      F   сотрудник     0   \n",
       "2    женат / замужем                 0      M   сотрудник     0   \n",
       "3    женат / замужем                 0      M   сотрудник     0   \n",
       "4   гражданский брак                 1      F   пенсионер     0   \n",
       "5   гражданский брак                 1      M   компаньон     0   \n",
       "6    женат / замужем                 0      F   компаньон     0   \n",
       "7    женат / замужем                 0      M   сотрудник     0   \n",
       "8   гражданский брак                 1      F   сотрудник     0   \n",
       "9    женат / замужем                 0      M   сотрудник     0   \n",
       "10   женат / замужем                 0      M   компаньон     0   \n",
       "11   женат / замужем                 0      F   сотрудник     0   \n",
       "12  гражданский брак                 1      M   пенсионер     0   \n",
       "13   женат / замужем                 0      F   сотрудник     0   \n",
       "14  гражданский брак                 1      F   компаньон     1   \n",
       "15   женат / замужем                 0      F   сотрудник     0   \n",
       "16   женат / замужем                 0      F   сотрудник     0   \n",
       "17  гражданский брак                 1      M   сотрудник     0   \n",
       "18    вдовец / вдова                 2      F   пенсионер     0   \n",
       "19         в разводе                 3      F   сотрудник     0   \n",
       "\n",
       "     total_income                                 purpose  \n",
       "0   253875.639453                           покупка жилья  \n",
       "1   112080.014102                 приобретение автомобиля  \n",
       "2   145885.952297                           покупка жилья  \n",
       "3   267628.550329              дополнительное образование  \n",
       "4   158616.077870                         сыграть свадьбу  \n",
       "5   255763.565419                           покупка жилья  \n",
       "6   240525.971920                       операции с жильем  \n",
       "7   135823.934197                             образование  \n",
       "8    95856.832424                   на проведение свадьбы  \n",
       "9   144425.938277                 покупка жилья для семьи  \n",
       "10  113943.491460                    покупка недвижимости  \n",
       "11   77069.234271       покупка коммерческой недвижимости  \n",
       "12            NaN                         сыграть свадьбу  \n",
       "13  130458.228857                 приобретение автомобиля  \n",
       "14  165127.911772              покупка жилой недвижимости  \n",
       "15  116820.904450  строительство собственной недвижимости  \n",
       "16  289202.704229                            недвижимость  \n",
       "17   90410.586745              строительство недвижимости  \n",
       "18   56823.777243      на покупку подержанного автомобиля  \n",
       "19  242831.107982            на покупку своего автомобиля  "
      ]
     },
     "execution_count": 12,
     "metadata": {},
     "output_type": "execute_result"
    }
   ],
   "source": [
    "# получение первых 20 строк таблицы data\n",
    "data.head(20)"
   ]
  },
  {
   "cell_type": "markdown",
   "id": "14835023",
   "metadata": {},
   "source": [
    "Из данной выборки видим, что в полученных данных имеются явные нарушения качества данных:\n",
    "\n",
    "1. В двух столбцах есть пропущенные значения:\n",
    "    * `days_employed`.\n",
    "    * `total_income`\n",
    "2. Отрицательное количество дней трудового стажа в столбце `days_employed`. \n",
    "3. В столбце `education` есть одни и те же значения, но записанные по-разному: с использованием заглавных и строчных букв.\n",
    "        \n",
    "В связи с этим возникает необходимость проведения предподготовки данных к анализу."
   ]
  },
  {
   "cell_type": "markdown",
   "id": "0ed8f27f",
   "metadata": {
    "deletable": false,
    "editable": false,
    "id": "0ed8f27f"
   },
   "source": [
    "**Задание 3. Выведите основную информацию о датафрейме с помощью метода `info()`.**"
   ]
  },
  {
   "cell_type": "code",
   "execution_count": 13,
   "id": "ab3f863b",
   "metadata": {
    "deletable": false,
    "id": "ab3f863b",
    "outputId": "15376089-8dad-46c9-b520-c05248d43158"
   },
   "outputs": [
    {
     "name": "stdout",
     "output_type": "stream",
     "text": [
      "<class 'pandas.core.frame.DataFrame'>\n",
      "RangeIndex: 21525 entries, 0 to 21524\n",
      "Data columns (total 12 columns):\n",
      " #   Column            Non-Null Count  Dtype  \n",
      "---  ------            --------------  -----  \n",
      " 0   children          21525 non-null  int64  \n",
      " 1   days_employed     19351 non-null  float64\n",
      " 2   dob_years         21525 non-null  int64  \n",
      " 3   education         21525 non-null  object \n",
      " 4   education_id      21525 non-null  int64  \n",
      " 5   family_status     21525 non-null  object \n",
      " 6   family_status_id  21525 non-null  int64  \n",
      " 7   gender            21525 non-null  object \n",
      " 8   income_type       21525 non-null  object \n",
      " 9   debt              21525 non-null  int64  \n",
      " 10  total_income      19351 non-null  float64\n",
      " 11  purpose           21525 non-null  object \n",
      "dtypes: float64(2), int64(5), object(5)\n",
      "memory usage: 2.0+ MB\n"
     ]
    }
   ],
   "source": [
    "# получение общей информации о данных в таблице data\n",
    "data.info()"
   ]
  },
  {
   "cell_type": "markdown",
   "id": "f6ca9e8e",
   "metadata": {},
   "source": [
    "Итак, в таблице 12 столбцов. \n",
    "Тип данных столбцов:\n",
    "* вещественный тип(float64):  `days_employed`, `total_income`\n",
    "* целочисленный тип(int64): `children`, `dob_years`, `education_id`, `family_status_id`, `debt`\n",
    "* строковый тип(object): `education`, `family_status`, `gender`, `income_type`, `purpose`\n",
    "\n",
    "Согласно документации к данным:\n",
    "\n",
    "* `children` — количество детей в семье\n",
    "* `days_employed` — общий трудовой стаж в днях\n",
    "* `dob_years` — возраст клиента в годах\n",
    "* `education` — уровень образования клиента\n",
    "* `education_id` — идентификатор уровня образования\n",
    "* `family_status` — семейное положение\n",
    "* `family_status_id` — идентификатор семейного положения\n",
    "* `gender` — пол клиента\n",
    "* `income_type` — тип занятости\n",
    "* `debt` — имел ли задолженность по возврату кредитов\n",
    "* `total_income` — ежемесячный доход\n",
    "* `purpose` — цель получения кредита\n",
    "\n",
    "\n",
    "Количество значений в столбцах `days_employed`(19351) и  `total_income`(19351) отличаются от общего количества строк (21525). \n",
    "Значит, в данных есть пропущенные значения."
   ]
  },
  {
   "cell_type": "markdown",
   "id": "ee92abf0",
   "metadata": {},
   "source": [
    "**Выводы**\n",
    "\n",
    "В каждой строке таблицы — данные о клиентах получавших кредит в банке. \n",
    "Часть колонок описывает саму информацию необходимую для получения кредита клиентом: \n",
    "* тип занятости (`income_type`)\n",
    "* имелась ли задолженость по кредиту (`debt`)\n",
    "* ежемесячный доход (`total_income`)\n",
    "* цель получения кредита (`purpose`). \n",
    "\n",
    "Остальные данные рассказывают о клиенте: \n",
    "* сколько у него детей (`children`)\n",
    "* общий трудовой стаж (`days_employed`)\n",
    "* возраст клиента (`dob_years`) \n",
    "* уровень образования клиента (`education` и `education_id`)\n",
    "* семейное положение (`family_status` и `family_status_id`)\n",
    "* пол клиента (`gender`)\n",
    "\n",
    "Предварительно можно утверждать, что данных достаточно для проверки гипотез. Но:\n",
    "\n",
    "* встречаются пропуски в данных\n",
    "* анамалии в виде отрицательных значений в столбце общий трудовой стаж (`days_employed`)\n",
    "* в столбце `education` одни и те же значения записаны в отдних и техже реестрах \n",
    "* для двух пар столбцов наблюдается избыточность данных требующая декомпозиции основной таблицы `data`   \n",
    "    * `education` и `education_id` - данные дублируют друг друга в строковом и числовом-категориальном формате\n",
    "    * `family_status` и `family_status_id` - данные дублируют друг друга в строковом и числовом-категориальном формате\n",
    "      \n",
    "       \n",
    "Заметим, что  названия колонок соответствуют требованиям хорошего стиля и не требуют корректировки.\n",
    "\n",
    "Чтобы двигаться дальше, нужно устранить проблемы в данных."
   ]
  },
  {
   "cell_type": "markdown",
   "id": "60e3e22d",
   "metadata": {
    "deletable": false,
    "editable": false,
    "id": "60e3e22d"
   },
   "source": [
    "## Предобработка данных"
   ]
  },
  {
   "cell_type": "markdown",
   "id": "03dc170c",
   "metadata": {
    "deletable": false,
    "editable": false,
    "id": "03dc170c"
   },
   "source": [
    "### Удаление пропусков"
   ]
  },
  {
   "cell_type": "markdown",
   "id": "a4f54eef",
   "metadata": {
    "deletable": false,
    "editable": false,
    "id": "a4f54eef"
   },
   "source": [
    "**Задание 4. Выведите количество пропущенных значений для каждого столбца. Используйте комбинацию двух методов.**"
   ]
  },
  {
   "cell_type": "code",
   "execution_count": 14,
   "id": "2dc372b2",
   "metadata": {
    "deletable": false,
    "id": "2dc372b2",
    "outputId": "81f4d817-781c-465c-ed15-91ce4446810d"
   },
   "outputs": [
    {
     "data": {
      "text/plain": [
       "children               0\n",
       "days_employed       2174\n",
       "dob_years              0\n",
       "education              0\n",
       "education_id           0\n",
       "family_status          0\n",
       "family_status_id       0\n",
       "gender                 0\n",
       "income_type            0\n",
       "debt                   0\n",
       "total_income        2174\n",
       "purpose                0\n",
       "dtype: int64"
      ]
     },
     "execution_count": 14,
     "metadata": {},
     "output_type": "execute_result"
    }
   ],
   "source": [
    "# подсчет пропусков\n",
    "data.isna().sum()"
   ]
  },
  {
   "cell_type": "markdown",
   "id": "14f011b1",
   "metadata": {
    "deletable": false,
    "editable": false,
    "id": "14f011b1"
   },
   "source": [
    "**Задание 5. В двух столбцах есть пропущенные значения. Один из них — `days_employed`. Пропуски в этом столбце вы обработаете на следующем этапе. Другой столбец с пропущенными значениями — `total_income` — хранит данные о доходах. На сумму дохода сильнее всего влияет тип занятости, поэтому заполнить пропуски в этом столбце нужно медианным значением по каждому типу из столбца `income_type`. Например, у человека с типом занятости `сотрудник` пропуск в столбце `total_income` должен быть заполнен медианным доходом среди всех записей с тем же типом.**"
   ]
  },
  {
   "cell_type": "code",
   "execution_count": 15,
   "id": "bdabfb6e",
   "metadata": {
    "deletable": false,
    "id": "bdabfb6e"
   },
   "outputs": [],
   "source": [
    "for t in data['income_type'].unique():\n",
    "    data.loc[(data['income_type'] == t) & (data['total_income'].isna()), 'total_income'] = \\\n",
    "    data.loc[(data['income_type'] == t), 'total_income'].median()"
   ]
  },
  {
   "cell_type": "markdown",
   "id": "5be34059",
   "metadata": {
    "deletable": false,
    "editable": false,
    "id": "5be34059"
   },
   "source": [
    "### Обработка аномальных значений"
   ]
  },
  {
   "cell_type": "markdown",
   "id": "a87606cb",
   "metadata": {
    "deletable": false,
    "editable": false,
    "id": "a87606cb"
   },
   "source": [
    "**Задание 6. В данных могут встречаться артефакты (аномалии) — значения, которые не отражают действительность и появились по какой-то ошибке. таким артефактом будет отрицательное количество дней трудового стажа в столбце `days_employed`. Для реальных данных это нормально. Обработайте значения в этом столбце: замените все отрицательные значения положительными с помощью метода `abs()`.**"
   ]
  },
  {
   "cell_type": "code",
   "execution_count": 16,
   "id": "020c46cc",
   "metadata": {
    "deletable": false,
    "id": "020c46cc"
   },
   "outputs": [],
   "source": [
    "data['days_employed'] = data['days_employed'].abs()"
   ]
  },
  {
   "cell_type": "markdown",
   "id": "45538a3a",
   "metadata": {
    "deletable": false,
    "editable": false,
    "id": "45538a3a"
   },
   "source": [
    "**Задание 7. Для каждого типа занятости выведите медианное значение трудового стажа `days_employed` в днях.**"
   ]
  },
  {
   "cell_type": "code",
   "execution_count": 17,
   "id": "cd3e6328",
   "metadata": {
    "deletable": false,
    "id": "cd3e6328",
    "outputId": "801ef80e-522b-4668-f34e-565af7432bcf"
   },
   "outputs": [
    {
     "data": {
      "text/plain": [
       "income_type\n",
       "безработный        366413.652744\n",
       "в декрете            3296.759962\n",
       "госслужащий          2689.368353\n",
       "компаньон            1547.382223\n",
       "пенсионер          365213.306266\n",
       "предприниматель       520.848083\n",
       "сотрудник            1574.202821\n",
       "студент               578.751554\n",
       "Name: days_employed, dtype: float64"
      ]
     },
     "execution_count": 17,
     "metadata": {},
     "output_type": "execute_result"
    }
   ],
   "source": [
    "data.groupby('income_type')['days_employed'].agg('median')"
   ]
  },
  {
   "cell_type": "markdown",
   "id": "90c5f058",
   "metadata": {
    "deletable": false,
    "editable": false,
    "id": "90c5f058"
   },
   "source": [
    "У двух типов (безработные и пенсионеры) получатся аномально большие значения. Исправить такие значения сложно, поэтому оставьте их как есть."
   ]
  },
  {
   "cell_type": "markdown",
   "id": "9652e50d",
   "metadata": {
    "deletable": false,
    "editable": false,
    "id": "9652e50d"
   },
   "source": [
    "**Задание 8. Выведите перечень уникальных значений столбца `children`.**"
   ]
  },
  {
   "cell_type": "code",
   "execution_count": 18,
   "id": "dbb37b8e",
   "metadata": {
    "deletable": false,
    "id": "dbb37b8e",
    "outputId": "6975b15c-7f95-4697-d16d-a0c79b657b03"
   },
   "outputs": [
    {
     "data": {
      "text/plain": [
       "array([ 1,  0,  3,  2, -1,  4, 20,  5])"
      ]
     },
     "execution_count": 18,
     "metadata": {},
     "output_type": "execute_result"
    }
   ],
   "source": [
    "data['children'].unique()"
   ]
  },
  {
   "cell_type": "markdown",
   "id": "2b8b0715",
   "metadata": {
    "deletable": false,
    "editable": false,
    "id": "2b8b0715"
   },
   "source": [
    "**Задание 9. В столбце `children` есть два аномальных значения. Удалите строки, в которых встречаются такие аномальные значения из датафрейма `data`.**"
   ]
  },
  {
   "cell_type": "code",
   "execution_count": 19,
   "id": "20009df8",
   "metadata": {
    "deletable": false,
    "id": "20009df8"
   },
   "outputs": [],
   "source": [
    "data = data[(data['children'] != -1) & (data['children'] != 20)]"
   ]
  },
  {
   "cell_type": "markdown",
   "id": "8c6ac9f1",
   "metadata": {
    "deletable": false,
    "editable": false,
    "id": "8c6ac9f1"
   },
   "source": [
    "**Задание 10. Ещё раз выведите перечень уникальных значений столбца `children`, чтобы убедиться, что артефакты удалены.**"
   ]
  },
  {
   "cell_type": "code",
   "execution_count": 20,
   "id": "07337b81",
   "metadata": {
    "deletable": false,
    "id": "07337b81",
    "outputId": "b2097101-d49d-44d9-901b-32a65c9463d1"
   },
   "outputs": [
    {
     "data": {
      "text/plain": [
       "array([1, 0, 3, 2, 4, 5])"
      ]
     },
     "execution_count": 20,
     "metadata": {},
     "output_type": "execute_result"
    }
   ],
   "source": [
    "data['children'].unique()"
   ]
  },
  {
   "cell_type": "markdown",
   "id": "ee3f52d4",
   "metadata": {
    "deletable": false,
    "editable": false,
    "id": "ee3f52d4"
   },
   "source": [
    "### Удаление пропусков (продолжение)"
   ]
  },
  {
   "cell_type": "markdown",
   "id": "a700b0e4",
   "metadata": {
    "deletable": false,
    "editable": false,
    "id": "a700b0e4"
   },
   "source": [
    "**Задание 11. Заполните пропуски в столбце `days_employed` медианными значениями по каждого типа занятости `income_type`.**"
   ]
  },
  {
   "cell_type": "code",
   "execution_count": 21,
   "id": "61946b83",
   "metadata": {
    "deletable": false,
    "id": "61946b83"
   },
   "outputs": [],
   "source": [
    "for t in data['income_type'].unique():\n",
    "    data.loc[(data['income_type'] == t) & (data['days_employed'].isna()), 'days_employed'] = \\\n",
    "    data.loc[(data['income_type'] == t), 'days_employed'].median()"
   ]
  },
  {
   "cell_type": "markdown",
   "id": "550dcd9b",
   "metadata": {
    "deletable": false,
    "editable": false,
    "id": "550dcd9b"
   },
   "source": [
    "**Задание 12. Убедитесь, что все пропуски заполнены. Проверьте себя и ещё раз выведите количество пропущенных значений для каждого столбца с помощью двух методов.**"
   ]
  },
  {
   "cell_type": "code",
   "execution_count": 22,
   "id": "937c7014",
   "metadata": {
    "deletable": false,
    "id": "937c7014",
    "outputId": "8da1e4e1-358e-4e87-98c9-f261bce0a7b2"
   },
   "outputs": [
    {
     "data": {
      "text/plain": [
       "children            0\n",
       "days_employed       0\n",
       "dob_years           0\n",
       "education           0\n",
       "education_id        0\n",
       "family_status       0\n",
       "family_status_id    0\n",
       "gender              0\n",
       "income_type         0\n",
       "debt                0\n",
       "total_income        0\n",
       "purpose             0\n",
       "dtype: int64"
      ]
     },
     "execution_count": 22,
     "metadata": {},
     "output_type": "execute_result"
    }
   ],
   "source": [
    "data.isna().sum()"
   ]
  },
  {
   "cell_type": "markdown",
   "id": "d522e295",
   "metadata": {
    "deletable": false,
    "editable": false,
    "id": "d522e295"
   },
   "source": [
    "### Изменение типов данных"
   ]
  },
  {
   "cell_type": "markdown",
   "id": "c229c581",
   "metadata": {
    "deletable": false,
    "editable": false,
    "id": "c229c581"
   },
   "source": [
    "**Задание 13. Замените вещественный тип данных в столбце `total_income` на целочисленный с помощью метода `astype()`.**"
   ]
  },
  {
   "cell_type": "code",
   "execution_count": 23,
   "id": "31036462",
   "metadata": {
    "deletable": false,
    "id": "31036462"
   },
   "outputs": [],
   "source": [
    "data['total_income'] = data['total_income'].astype(int)"
   ]
  },
  {
   "cell_type": "markdown",
   "id": "b8e3d1d9",
   "metadata": {
    "deletable": false,
    "editable": false,
    "id": "b8e3d1d9"
   },
   "source": [
    "### Обработка дубликатов"
   ]
  },
  {
   "cell_type": "markdown",
   "id": "9be53c49",
   "metadata": {
    "deletable": false,
    "editable": false,
    "id": "9be53c49"
   },
   "source": [
    "**Задание 14. Обработайте неявные дубликаты в столбце `education`. В этом столбце есть одни и те же значения, но записанные по-разному: с использованием заглавных и строчных букв. Приведите их к нижнему регистру.**"
   ]
  },
  {
   "cell_type": "code",
   "execution_count": 24,
   "id": "d89e73e1",
   "metadata": {
    "deletable": false,
    "id": "d89e73e1"
   },
   "outputs": [],
   "source": [
    "data['education'] = data['education'].str.lower()"
   ]
  },
  {
   "cell_type": "markdown",
   "id": "01d4500e",
   "metadata": {
    "deletable": false,
    "editable": false,
    "id": "01d4500e"
   },
   "source": [
    "**Задание 15. Выведите на экран количество строк-дубликатов в данных. Если такие строки присутствуют, удалите их.**"
   ]
  },
  {
   "cell_type": "code",
   "execution_count": 25,
   "id": "e10efb23",
   "metadata": {
    "deletable": false,
    "id": "e10efb23",
    "outputId": "9684deba-1934-42d1-99e1-cda61740f822"
   },
   "outputs": [
    {
     "data": {
      "text/plain": [
       "71"
      ]
     },
     "execution_count": 25,
     "metadata": {},
     "output_type": "execute_result"
    }
   ],
   "source": [
    "data.duplicated().sum()"
   ]
  },
  {
   "cell_type": "code",
   "execution_count": 26,
   "id": "df853f20",
   "metadata": {
    "deletable": false,
    "id": "df853f20"
   },
   "outputs": [],
   "source": [
    "data = data.drop_duplicates()"
   ]
  },
  {
   "cell_type": "markdown",
   "id": "627be38f",
   "metadata": {
    "deletable": false,
    "editable": false,
    "id": "627be38f"
   },
   "source": [
    "### Категоризация данных"
   ]
  },
  {
   "cell_type": "markdown",
   "id": "4684c3e0",
   "metadata": {
    "deletable": false,
    "editable": false,
    "id": "4684c3e0"
   },
   "source": [
    "**Задание 16. На основании диапазонов, указанных ниже, создайте в датафрейме `data` столбец `total_income_category` с категориями:**\n",
    "\n",
    "- 0–30000 — `'E'`;\n",
    "- 30001–50000 — `'D'`;\n",
    "- 50001–200000 — `'C'`;\n",
    "- 200001–1000000 — `'B'`;\n",
    "- 1000001 и выше — `'A'`.\n",
    "\n",
    "\n",
    "**Например, кредитополучателю с доходом 25000 нужно назначить категорию `'E'`, а клиенту, получающему 235000, — `'B'`. Используйте собственную функцию с именем `categorize_income()` и метод `apply()`.**"
   ]
  },
  {
   "cell_type": "code",
   "execution_count": 27,
   "id": "78965238",
   "metadata": {
    "deletable": false,
    "id": "78965238"
   },
   "outputs": [],
   "source": [
    "def categorize_income(income):\n",
    "    try:\n",
    "        if 0 <= income <= 30000:\n",
    "            return 'E'\n",
    "        elif 30001 <= income <= 50000:\n",
    "            return 'D'\n",
    "        elif 50001 <= income <= 200000:\n",
    "            return 'C'\n",
    "        elif 200001 <= income <= 1000000:\n",
    "            return 'B'\n",
    "        elif income >= 1000001:\n",
    "            return 'A'\n",
    "    except:\n",
    "        pass"
   ]
  },
  {
   "cell_type": "code",
   "execution_count": 28,
   "id": "0980ada1",
   "metadata": {
    "deletable": false,
    "id": "0980ada1"
   },
   "outputs": [],
   "source": [
    "data['total_income_category'] = data['total_income'].apply(categorize_income)"
   ]
  },
  {
   "cell_type": "markdown",
   "id": "9917bba0",
   "metadata": {
    "deletable": false,
    "editable": false,
    "id": "9917bba0"
   },
   "source": [
    "**Задание 17. Выведите на экран перечень уникальных целей взятия кредита из столбца `purpose`.**"
   ]
  },
  {
   "cell_type": "code",
   "execution_count": 29,
   "id": "ee07b65e",
   "metadata": {
    "deletable": false,
    "id": "ee07b65e",
    "outputId": "673c12d9-7d7e-4ae0-9812-c622c89dd244"
   },
   "outputs": [
    {
     "data": {
      "text/plain": [
       "array(['покупка жилья', 'приобретение автомобиля',\n",
       "       'дополнительное образование', 'сыграть свадьбу',\n",
       "       'операции с жильем', 'образование', 'на проведение свадьбы',\n",
       "       'покупка жилья для семьи', 'покупка недвижимости',\n",
       "       'покупка коммерческой недвижимости', 'покупка жилой недвижимости',\n",
       "       'строительство собственной недвижимости', 'недвижимость',\n",
       "       'строительство недвижимости', 'на покупку подержанного автомобиля',\n",
       "       'на покупку своего автомобиля',\n",
       "       'операции с коммерческой недвижимостью',\n",
       "       'строительство жилой недвижимости', 'жилье',\n",
       "       'операции со своей недвижимостью', 'автомобили',\n",
       "       'заняться образованием', 'сделка с подержанным автомобилем',\n",
       "       'получение образования', 'автомобиль', 'свадьба',\n",
       "       'получение дополнительного образования', 'покупка своего жилья',\n",
       "       'операции с недвижимостью', 'получение высшего образования',\n",
       "       'свой автомобиль', 'сделка с автомобилем',\n",
       "       'профильное образование', 'высшее образование',\n",
       "       'покупка жилья для сдачи', 'на покупку автомобиля', 'ремонт жилью',\n",
       "       'заняться высшим образованием'], dtype=object)"
      ]
     },
     "execution_count": 29,
     "metadata": {},
     "output_type": "execute_result"
    }
   ],
   "source": [
    "data['purpose'].unique()"
   ]
  },
  {
   "cell_type": "markdown",
   "id": "52b79d56",
   "metadata": {
    "deletable": false,
    "editable": false,
    "id": "52b79d56"
   },
   "source": [
    "**Задание 18. Создайте функцию, которая на основании данных из столбца `purpose` сформирует новый столбец `purpose_category`, в который войдут следующие категории:**\n",
    "\n",
    "- `'операции с автомобилем'`,\n",
    "- `'операции с недвижимостью'`,\n",
    "- `'проведение свадьбы'`,\n",
    "- `'получение образования'`.\n",
    "\n",
    "**Например, если в столбце `purpose` находится подстрока `'на покупку автомобиля'`, то в столбце `purpose_category` должна появиться строка `'операции с автомобилем'`.**\n",
    "\n",
    "**Используйте собственную функцию с именем `categorize_purpose()` и метод `apply()`. Изучите данные в столбце `purpose` и определите, какие подстроки помогут вам правильно определить категорию.**"
   ]
  },
  {
   "cell_type": "code",
   "execution_count": 30,
   "id": "be41da5d",
   "metadata": {
    "deletable": false,
    "id": "be41da5d"
   },
   "outputs": [],
   "source": [
    "def categorize_purpose(row):\n",
    "    try:\n",
    "        if 'автом' in row:\n",
    "            return 'операции с автомобилем'\n",
    "        elif 'жил' in row or 'недвиж' in row:\n",
    "            return 'операции с недвижимостью'\n",
    "        elif 'свад' in row:\n",
    "            return 'проведение свадьбы'\n",
    "        elif 'образов' in row:\n",
    "            return 'получение образования'\n",
    "    except:\n",
    "        return 'нет категории'"
   ]
  },
  {
   "cell_type": "code",
   "execution_count": 31,
   "id": "94c4a19a",
   "metadata": {
    "deletable": false,
    "id": "94c4a19a"
   },
   "outputs": [],
   "source": [
    "data['purpose_category'] = data['purpose'].apply(categorize_purpose)"
   ]
  },
  {
   "cell_type": "markdown",
   "id": "3d596c34",
   "metadata": {
    "deletable": false,
    "editable": false,
    "id": "3d596c34"
   },
   "source": [
    "### Шаг 3. Исследуйте данные и ответьте на вопросы"
   ]
  },
  {
   "cell_type": "markdown",
   "id": "f6d4f515",
   "metadata": {},
   "source": [
    "Для тоого, чтобы определить категории по возрастанию риска невозврата (или просрочек) по кредиту, необходимо сгруппировать клиентов по искомым категориям, посчитать их просрочки и найти процент клиентов от текущей группы, которые имеют задолженность.\n",
    "\n",
    "Поэтому, важно анализировать процент просрочек, а не их абсолютное значение для анализа и дальнейшего применения при построении модели кредитного скоринга клиентов.\n",
    "\n",
    "В связи с тем что в каждой группе может быть различное количество клиентов, будем выводить 2 результата:\n",
    "\n",
    "общий список по искомым категориям;\n",
    "\n",
    "усеченный список с исключением категорий, в которых менее 100 клиентов.\n",
    "\n",
    "Количество в 100 клиентов дает точность с минимальным шагом в 1% и составляет менее 1% от представленной выборки, поэтому не является критичным для общего массива данных."
   ]
  },
  {
   "cell_type": "markdown",
   "id": "648db036",
   "metadata": {
    "deletable": false,
    "editable": false,
    "id": "648db036"
   },
   "source": [
    "#### 3.1 Есть ли зависимость между количеством детей и возвратом кредита в срок?"
   ]
  },
  {
   "cell_type": "markdown",
   "id": "902ef9d8",
   "metadata": {},
   "source": [
    "Составим таблицу для анализа взаимосвязи между количеством детей и невозвратом кредита в срок:\n",
    "* группы клиентов по количеству детей;\n",
    "* абсолютное количество просрочек по группе;\n",
    "* количество клиентов по группе;\n",
    "* процент просрочек в группе."
   ]
  },
  {
   "cell_type": "code",
   "execution_count": 99,
   "id": "7fcff25e",
   "metadata": {
    "deletable": false,
    "id": "7fcff25e"
   },
   "outputs": [
    {
     "name": "stdout",
     "output_type": "stream",
     "text": [
      "          общее_количество_кредитов  количество_невозвратов  доля_должников\n",
      "children                                                                   \n",
      "5                                 9                       0        0.000000\n",
      "0                             14091                    1063        0.075438\n",
      "3                               330                      27        0.081818\n",
      "1                              4808                     444        0.092346\n",
      "2                              2052                     194        0.094542\n",
      "4                                41                       4        0.097561\n"
     ]
    }
   ],
   "source": [
    "#сгруппируем информацию о просроченых кредитах в разрезе количества детей клиентов и запишем в таблицу data_grouped_children\n",
    "data_grouped_children = data.groupby('children')['debt'].agg(['count','sum','mean'])\n",
    "data_grouped_children.columns = ['общее_количество_кредитов', 'количество_невозвратов', 'доля_должников']\n",
    "\n",
    "print(data_grouped_children.sort_values(by='доля_должников', ascending=True))"
   ]
  },
  {
   "cell_type": "markdown",
   "id": "68590804",
   "metadata": {},
   "source": [
    "Как видим из таблицы, количество клиентов с пятью и четырмя детьми не превышает 100 человек. Очевидно, общее количество людей, у которых 4 и более детей в семье - это редкость. Эти данные можно использовать для анализа, но они, с моей точки зрения, полноценны для проведения анализа.\n",
    "\n",
    "Уберем эти группы и подготовим данные для анализа"
   ]
  },
  {
   "cell_type": "code",
   "execution_count": 80,
   "id": "92f84cf0",
   "metadata": {},
   "outputs": [
    {
     "data": {
      "text/html": [
       "<div>\n",
       "<style scoped>\n",
       "    .dataframe tbody tr th:only-of-type {\n",
       "        vertical-align: middle;\n",
       "    }\n",
       "\n",
       "    .dataframe tbody tr th {\n",
       "        vertical-align: top;\n",
       "    }\n",
       "\n",
       "    .dataframe thead th {\n",
       "        text-align: right;\n",
       "    }\n",
       "</style>\n",
       "<table border=\"1\" class=\"dataframe\">\n",
       "  <thead>\n",
       "    <tr style=\"text-align: right;\">\n",
       "      <th></th>\n",
       "      <th>debt</th>\n",
       "      <th>count</th>\n",
       "      <th>percentage</th>\n",
       "    </tr>\n",
       "    <tr>\n",
       "      <th>children</th>\n",
       "      <th></th>\n",
       "      <th></th>\n",
       "      <th></th>\n",
       "    </tr>\n",
       "  </thead>\n",
       "  <tbody>\n",
       "    <tr>\n",
       "      <th>0</th>\n",
       "      <td>1063</td>\n",
       "      <td>14091</td>\n",
       "      <td>7.543822</td>\n",
       "    </tr>\n",
       "    <tr>\n",
       "      <th>3</th>\n",
       "      <td>27</td>\n",
       "      <td>330</td>\n",
       "      <td>8.181818</td>\n",
       "    </tr>\n",
       "    <tr>\n",
       "      <th>1</th>\n",
       "      <td>444</td>\n",
       "      <td>4808</td>\n",
       "      <td>9.234609</td>\n",
       "    </tr>\n",
       "    <tr>\n",
       "      <th>2</th>\n",
       "      <td>194</td>\n",
       "      <td>2052</td>\n",
       "      <td>9.454191</td>\n",
       "    </tr>\n",
       "  </tbody>\n",
       "</table>\n",
       "</div>"
      ],
      "text/plain": [
       "          debt  count  percentage\n",
       "children                         \n",
       "0         1063  14091    7.543822\n",
       "3           27    330    8.181818\n",
       "1          444   4808    9.234609\n",
       "2          194   2052    9.454191"
      ]
     },
     "execution_count": 80,
     "metadata": {},
     "output_type": "execute_result"
    }
   ],
   "source": [
    "data_grouped_children.loc[data_grouped_children['count'] > 100].sort_values(by='percentage',ascending=True)"
   ]
  },
  {
   "cell_type": "markdown",
   "id": "2eb9088e",
   "metadata": {
    "deletable": false,
    "id": "2eb9088e"
   },
   "source": [
    "**Вывод:** \n",
    "Заемщики без детей наиболее чаще берут кредиты, их доля составляет 66% от общего количества кредитов и  выплачивают кредиты исправнее, чем заемщики с детьми. \n",
    "\n",
    "Возвожно, это связано с увеличенными рисками внезапных трат связанными с детьми.\n"
   ]
  },
  {
   "cell_type": "markdown",
   "id": "74c9b3a7",
   "metadata": {
    "deletable": false,
    "editable": false,
    "id": "74c9b3a7"
   },
   "source": [
    "#### 3.2 Есть ли зависимость между семейным положением и возвратом кредита в срок?"
   ]
  },
  {
   "cell_type": "markdown",
   "id": "df07ef37",
   "metadata": {},
   "source": [
    "Составим таблицу для анализа взаимосвязи между семейным положением и возвратом кредита в срок:\n",
    "* группы семейного положения клиентов;\n",
    "* абсолютное количество просрочек по группе;\n",
    "* количество клиентов по группе;\n",
    "* процент просрочек в группе."
   ]
  },
  {
   "cell_type": "code",
   "execution_count": 105,
   "id": "8098ab3b",
   "metadata": {
    "deletable": false,
    "id": "8098ab3b"
   },
   "outputs": [
    {
     "name": "stdout",
     "output_type": "stream",
     "text": [
      "                       общее_количество_кредитов  количество_невозвратов  \\\n",
      "family_status                                                              \n",
      "вдовец / вдова                               951                      63   \n",
      "в разводе                                   1189                      84   \n",
      "женат / замужем                            12261                     927   \n",
      "гражданский брак                            4134                     385   \n",
      "Не женат / не замужем                       2796                     273   \n",
      "\n",
      "                       доля_должников  \n",
      "family_status                          \n",
      "вдовец / вдова               0.066246  \n",
      "в разводе                    0.070648  \n",
      "женат / замужем              0.075606  \n",
      "гражданский брак             0.093130  \n",
      "Не женат / не замужем        0.097639  \n"
     ]
    }
   ],
   "source": [
    "#сгруппируем информацию о просроченых кредитах в разрезе семейного положения клиентов и запишем в таблицу data_grouped_family_status\n",
    "data_grouped_family_status = data.groupby('family_status')['debt'].agg(['count','sum','mean'])\n",
    "data_grouped_family_status.columns = ['общее_количество_кредитов', 'количество_невозвратов', 'доля_должников']\n",
    "\n",
    "print(data_grouped_family_status.sort_values(by='доля_должников', ascending=True))\n"
   ]
  },
  {
   "cell_type": "markdown",
   "id": "00c6e530",
   "metadata": {},
   "source": [
    "В данной выборке нет ни одной группы, которая могла бы быть нерелевантной для выборки. Отсекать нечего, поэтому эти данные идут в анализ для скоринга."
   ]
  },
  {
   "cell_type": "markdown",
   "id": "c389ca63",
   "metadata": {
    "deletable": false,
    "id": "c389ca63"
   },
   "source": [
    "**Вывод:** \n",
    "Наименьшие количество невозвратов по платежам принадлежат группе вдов/вдовцов, в то время как у клиентов, которые не находятся в отношениях (Не женат / не замужем) в 1.5 раза выше, чем у вдов и вдовцов. Возможно, это связано с тем, что наличие текущих отношений или отношений в прошлом заставляют людей быть более дисциплинированными."
   ]
  },
  {
   "cell_type": "markdown",
   "id": "9529de68",
   "metadata": {
    "deletable": false,
    "editable": false,
    "id": "9529de68"
   },
   "source": [
    "#### 3.3 Есть ли зависимость между уровнем дохода и возвратом кредита в срок?"
   ]
  },
  {
   "cell_type": "markdown",
   "id": "1b7b21fd",
   "metadata": {},
   "source": [
    "Составим таблицу для анализа взаимосвязи между уровнем дохода и невозвратом кредита в срок:\n",
    "* категории дохода клиентов;\n",
    "* абсолютное количество просрочек по группе;\n",
    "* количество клиентов по группе;\n",
    "* процент просрочек в группе.\n",
    "\n",
    "\n",
    "Напомним что для клиентов определены, следующие категории доходов\n",
    "\n",
    "* 0–30000 — `'E'`;\n",
    "* 30001–50000 — `'D'`;\n",
    "* 50001–200000 — `'C'`;\n",
    "* 200001–1000000 — `'B'`;\n",
    "* 1000001 и выше — `'A'`.\n"
   ]
  },
  {
   "cell_type": "code",
   "execution_count": 108,
   "id": "8787f44a",
   "metadata": {
    "deletable": false,
    "id": "8787f44a"
   },
   "outputs": [
    {
     "name": "stdout",
     "output_type": "stream",
     "text": [
      "                       общее_количество_кредитов  количество_невозвратов  \\\n",
      "total_income_category                                                      \n",
      "D                                            349                      21   \n",
      "B                                           5014                     354   \n",
      "A                                             25                       2   \n",
      "C                                          15921                    1353   \n",
      "E                                             22                       2   \n",
      "\n",
      "                       доля_должников  \n",
      "total_income_category                  \n",
      "D                            0.060172  \n",
      "B                            0.070602  \n",
      "A                            0.080000  \n",
      "C                            0.084982  \n",
      "E                            0.090909  \n"
     ]
    }
   ],
   "source": [
    "#сгруппируем информацию о просроченых кредитах в разрезе категории доходов (total_income_category) и запишем в таблицу data_grouped_purpose_category\n",
    "\n",
    "data_grouped_purpose_category = data.groupby('total_income_category')['debt'].agg(['count','sum','mean'])\n",
    "data_grouped_purpose_category.columns = ['общее_количество_кредитов', 'количество_невозвратов', 'доля_должников']\n",
    "\n",
    "print(data_grouped_purpose_category.sort_values(by='доля_должников', ascending=True))\n"
   ]
  },
  {
   "cell_type": "markdown",
   "id": "31ffbc45",
   "metadata": {},
   "source": [
    "В данной таблице взаимосвязи присутствуют группы заемщиков категорий доходов `А` и `Е`, в которых менее 100 человек. Убираем эти группы и подготовим таблицу для дальнейшего анализа зависимости."
   ]
  },
  {
   "cell_type": "code",
   "execution_count": 92,
   "id": "d3e08c53",
   "metadata": {},
   "outputs": [
    {
     "data": {
      "text/html": [
       "<div>\n",
       "<style scoped>\n",
       "    .dataframe tbody tr th:only-of-type {\n",
       "        vertical-align: middle;\n",
       "    }\n",
       "\n",
       "    .dataframe tbody tr th {\n",
       "        vertical-align: top;\n",
       "    }\n",
       "\n",
       "    .dataframe thead th {\n",
       "        text-align: right;\n",
       "    }\n",
       "</style>\n",
       "<table border=\"1\" class=\"dataframe\">\n",
       "  <thead>\n",
       "    <tr style=\"text-align: right;\">\n",
       "      <th></th>\n",
       "      <th>debt</th>\n",
       "      <th>count</th>\n",
       "      <th>percentage</th>\n",
       "    </tr>\n",
       "    <tr>\n",
       "      <th>total_income_category</th>\n",
       "      <th></th>\n",
       "      <th></th>\n",
       "      <th></th>\n",
       "    </tr>\n",
       "  </thead>\n",
       "  <tbody>\n",
       "    <tr>\n",
       "      <th>D</th>\n",
       "      <td>21</td>\n",
       "      <td>349</td>\n",
       "      <td>6.017192</td>\n",
       "    </tr>\n",
       "    <tr>\n",
       "      <th>B</th>\n",
       "      <td>354</td>\n",
       "      <td>5014</td>\n",
       "      <td>7.060231</td>\n",
       "    </tr>\n",
       "    <tr>\n",
       "      <th>C</th>\n",
       "      <td>1353</td>\n",
       "      <td>15921</td>\n",
       "      <td>8.498210</td>\n",
       "    </tr>\n",
       "  </tbody>\n",
       "</table>\n",
       "</div>"
      ],
      "text/plain": [
       "                       debt  count  percentage\n",
       "total_income_category                         \n",
       "D                        21    349    6.017192\n",
       "B                       354   5014    7.060231\n",
       "C                      1353  15921    8.498210"
      ]
     },
     "execution_count": 92,
     "metadata": {},
     "output_type": "execute_result"
    }
   ],
   "source": [
    "data_grouped_income_category.loc[data_grouped_income_category['count'] > 100].sort_values(by='percentage',ascending=True)"
   ]
  },
  {
   "cell_type": "markdown",
   "id": "6dd14b57",
   "metadata": {
    "deletable": false,
    "id": "6dd14b57"
   },
   "source": [
    "**Вывод:** \n",
    "Наиболее дисциплинированными заемщиками являются клиенты категории дохода \"D\" - с уровнем дохода от 30 до 50 тясяч рублей.\n",
    "Но при этом зависимость между уровнем дохода и возвратом кредита в срок прослеживается слабо.\n",
    "Вероятне всего на получение влияют дополнительные неучтенные внешние факторы."
   ]
  },
  {
   "cell_type": "markdown",
   "id": "1dcc9b12",
   "metadata": {
    "deletable": false,
    "editable": false,
    "id": "1dcc9b12"
   },
   "source": [
    "#### 3.4 Как разные цели кредита влияют на его возврат в срок?"
   ]
  },
  {
   "cell_type": "markdown",
   "id": "9898e4c8",
   "metadata": {},
   "source": [
    "Составим таблицу для анализа взаимосвязи между целями кредита и невозвратом кредита в срок:\n",
    "* цель кредита;\n",
    "* абсолютное количество просрочек по группе;\n",
    "* количество клиентов по группе;\n",
    "* процент просрочек в группе.\n",
    "\n",
    "\n",
    "Напомним что для клиентов определены, цели кредитов:\n",
    "- `'операции с автомобилем'`,\n",
    "- `'операции с недвижимостью'`,\n",
    "- `'проведение свадьбы'`,\n",
    "- `'получение образования'`\n"
   ]
  },
  {
   "cell_type": "code",
   "execution_count": 109,
   "id": "c602bc8b",
   "metadata": {
    "deletable": false,
    "id": "c602bc8b"
   },
   "outputs": [
    {
     "name": "stdout",
     "output_type": "stream",
     "text": [
      "                          общее_количество_кредитов  количество_невозвратов  \\\n",
      "purpose_category                                                              \n",
      "операции с недвижимостью                      10751                     780   \n",
      "проведение свадьбы                             2313                     183   \n",
      "получение образования                          3988                     369   \n",
      "операции с автомобилем                         4279                     400   \n",
      "\n",
      "                          доля_должников  \n",
      "purpose_category                          \n",
      "операции с недвижимостью        0.072551  \n",
      "проведение свадьбы              0.079118  \n",
      "получение образования           0.092528  \n",
      "операции с автомобилем          0.093480  \n"
     ]
    }
   ],
   "source": [
    "#сгруппируем информацию о просроченых кредитах в разрезе категорий целей кредитов (purpose_category)  и запишем в таблицу data_grouped_total_category\n",
    "\n",
    "data_grouped_total_category = data.groupby('purpose_category')['debt'].agg(['count','sum','mean'])\n",
    "data_grouped_total_category.columns = ['общее_количество_кредитов', 'количество_невозвратов', 'доля_должников']\n",
    "\n",
    "print(data_grouped_total_category.sort_values(by='доля_должников', ascending=True))\n"
   ]
  },
  {
   "cell_type": "markdown",
   "id": "30dfdf59",
   "metadata": {},
   "source": [
    "В данной выборке нет ни одной группы с количеством заемщиков <100, поэтому эти данные идут в анализ для скоринга в полном объеме."
   ]
  },
  {
   "cell_type": "markdown",
   "id": "cf05ed63",
   "metadata": {
    "deletable": false,
    "id": "cf05ed63"
   },
   "source": [
    "**Вывод:** \n",
    "Займы по операциям с недвижимостью составляют 50% от общего количества и при этом заемщики ответственнее подходят к выплатам. Займы по автокредитам имеют и на образование приблизительно равны друг дуругу, и имеют наибольшую долю задолженностей."
   ]
  },
  {
   "cell_type": "markdown",
   "id": "46c1f10b",
   "metadata": {
    "deletable": false,
    "editable": false,
    "id": "46c1f10b"
   },
   "source": [
    "#### 3.5 Приведите возможные причины появления пропусков в исходных данных."
   ]
  },
  {
   "cell_type": "markdown",
   "id": "3697d2a9",
   "metadata": {
    "deletable": false,
    "id": "3697d2a9"
   },
   "source": [
    "Судя по количеству недостающих данных (ровно по 2174 в каждом из столбцов), кажется, что отсутствие данных связано с человеческим фактором - оператор не внес размер дохода и стаж заемщика или какой-то определенный контрагент не собирает эти данные. Возможно, при более глубоком анализе можно будет обнаружить, что пропуски связаны с какой-то определенной категорией:\n",
    "\n",
    "* заемщики по свадебным кредитам, для будущей семьи-студентов без стажа и дохода;\n",
    "* заемщики по образовательным кредитам, которые не имеют стажа и дохода.\n",
    "\n",
    "\n",
    "Причина пропуска может быть технологической - это сбой работы БД при выгрузке, сбой работы приложений, при внесении данных в базу, неудачная миграция данных в процессе переноса данных или обновления."
   ]
  },
  {
   "cell_type": "markdown",
   "id": "3137d257",
   "metadata": {
    "deletable": false,
    "editable": false,
    "id": "3137d257"
   },
   "source": [
    "#### 3.6 Объясните, почему заполнить пропуски медианным значением — лучшее решение для количественных переменных."
   ]
  },
  {
   "cell_type": "markdown",
   "id": "cf40012a",
   "metadata": {
    "deletable": false,
    "id": "cf40012a"
   },
   "source": [
    "Когда мы обнаружили пустые значения можно сделать несколько действий с этими значениями.\n",
    "\n",
    "1) Ничего не делать\n",
    "Тогда эти значения будут мешать операциям с ячейками и искажать данные. Например, если мы захотим посчитать средний стаж по определенной группе, нам надо будет поделить общий стаж на количество людей. При этом, мы ошибемся не посчитав пустые ячейки. Таким образом среднее значение будет отличаться от реального.\n",
    "\n",
    "2) Удалить строки с пустыми значениями\n",
    "Это сделать можно, если нет никаких разумных подходов по заполнению этих пустых значений и удаление такого количества данных не скажется на общие посчеты\n",
    "\n",
    "3) Заменить значения на определенные, заранее заданные\n",
    "Для этого необходимо определиться, на что меняем пустые значения. Пустые значения можно заменить медианным или среднеарифметическим значением. Среднеарифметическое значение чувствительно к пиковым и экстремальным значениям в выборке и не всегда отображает реальность. \n",
    "\n",
    "В то же время медианное значение не искажает картину распределения по пользователям. \n",
    "\n",
    "Например, если в выборке появится несколько людей с экстремально высокими или низкими показателями, они не повлияют (или не значительно повлияют) на медианное значение, когда среднеарифметическое значение может резко вырасти или уменьшиться. Среднее арифметическое может совпадать с медианой только в симметричных выборках, что на практике встречается крайне редко.\n",
    "\n",
    "**Вывод:\n",
    "Таким образом, замена пустых ячеек на медианное значение является оптимальным. Таким образом мы сохраняем остальные данные в этих строках и не вносим искажения в общую статистику по пустым ячейкам.**"
   ]
  },
  {
   "cell_type": "markdown",
   "id": "57bc304e",
   "metadata": {
    "deletable": false,
    "editable": false,
    "id": "57bc304e"
   },
   "source": [
    "### Шаг 4: общий вывод."
   ]
  },
  {
   "cell_type": "markdown",
   "id": "1ab75d1c",
   "metadata": {
    "deletable": false,
    "id": "1ab75d1c"
   },
   "source": [
    "Для улучшения системы скоринга клиентов была проанализирована выборка текущих клиентов и их задолженностей по платежам.\n",
    "\n",
    "В рамках анализа были проверены следующие гипотезы:\n",
    "\n",
    "**1. Есть ли зависимость между количеством детей и возвратом кредита в срок?**\n",
    "\n",
    "\n",
    "В рамках данного исследования не удалось оценить группы клиентов с 4 и 5 детьми - выборка оказалась слишком малой для анализа.\n",
    "\n",
    "Категория клиентов без детей оказалась самой многочисленной и процент задержек по кредиту самый низкий - 7.54%. \n",
    "Самый высокий процент задержек по оплатам оказался у клиентов с двумя детьми и составляет 9.45%.\n",
    "Заемщики без детей наиболее чаще берут кредиты, их доля составляет 66% от общего количества кредитов \n",
    "При этом наблюдается явная зависимоть  снижения общего количества кредитов от увеличения количества детей\n",
    "Вероятно, это связано с увеличенными рисками внезапных трат на детей и возрастанием уровня оценки необходимости получения кредита.\n",
    "\n",
    "**2.Есть ли зависимость между семейным положением и возвратом кредита в срок?**\n",
    "\n",
    "По результатам проверки данной гипотезы выявлена следующая закономерность - меньше всего просрочек по кредитам у вдов/вдовцев (6.62%), больше всего у клиентов, не состоящих в отношениях (9.76%). Самой массовой категорией являются клиенты в браке, процент просрочек по данной категории составляет 7.56%\n",
    "\n",
    "количество невозвратов у клиентов, которые не находятся в отношениях (Не женат / не замужем) в 1.5 раза выше, чем у вдов и вдовцов. Возможно, это связано с тем, что наличие текущих отношений или отношений в прошлом заставляют людей быть более дисциплинированными.\n",
    "\n",
    "**3. Есть ли зависимость между уровнем дохода и возвратом кредита в срок?**\n",
    "\n",
    "По результатам проверки данной гипотезы выявлена следующая закономерность - меньше всего просрочек по кредитам у клиентов с уровнем дохода от 30 000 до 50 000 руб в месяц (6.02%), больше всего у клиентов с уровнем дохода от 200 000 до 1 000 000 руб в месяц (8.50%). Эта же категория (от 200 000 до 1 000 000) является наиболее массовой в выборке.\n",
    "\n",
    "Наиболее дисциплинированными заемщиками являются клиенты категории дохода \"D\" - с уровнем дохода от 30 до 50 тясяч рублей, но при этом они не так часто берут кредиты их  доля кредитов от общего количества составляет:  1,6 %\n",
    "\n",
    "В то время как:\n",
    "* для клиенов с уровнем дохода от 50 000 до 200 000 руб  доля кредитов от общего количества составляет:  75%\n",
    "* для клиентов с уровнем дохода от 200 000 до 1 000 000 руб  доля кредитов от общего количества составляет:  24%\n",
    " \n",
    "\n",
    "Категория клиентов с экстремальными значениями доходов (ниже 30 000 руб или выше 1 000 000 руб) являются слишком малой. Достоверно говорить о вероятностях просрочек от этих клиентов нельзя.\n",
    "\n",
    "\n",
    "**4.Как разные цели кредита влияют на его возврат в срок?**\n",
    "По результатам проверки данной гипотезы выявлена следующая закономерность - меньше всего просрочек по кредитам по займам на недвижимость (7.26%), больше всего по займам на автомобиль (9.35%). \n",
    "Займы по операциям с недвижимостью составляют 50% от общего количества и при этом заемщики ответственнее подходят к выплатам. \n",
    "\n",
    "Помимо проведенного анализа, было бы неплохо еще провести анализ по количеству дней просрочки и объемам просрочек. Этот анализ позволит определить более точно, какая группа, с точки зрения задолженности порождает наибольшие финансовые проблемы. Данные можно использовать для скоринга."
   ]
  }
 ],
 "metadata": {
  "ExecuteTimeLog": [
   {
    "duration": 47,
    "start_time": "2023-12-10T15:57:41.173Z"
   },
   {
    "duration": 6,
    "start_time": "2023-12-10T15:57:51.281Z"
   },
   {
    "duration": 458,
    "start_time": "2023-12-10T15:57:55.201Z"
   },
   {
    "duration": 23,
    "start_time": "2023-12-10T15:57:57.296Z"
   },
   {
    "duration": 16,
    "start_time": "2023-12-10T15:58:02.249Z"
   },
   {
    "duration": 74,
    "start_time": "2023-12-10T15:59:13.391Z"
   },
   {
    "duration": 16,
    "start_time": "2023-12-10T15:59:14.846Z"
   },
   {
    "duration": 16,
    "start_time": "2023-12-10T15:59:17.262Z"
   },
   {
    "duration": 11,
    "start_time": "2023-12-10T15:59:22.959Z"
   },
   {
    "duration": 2,
    "start_time": "2023-12-10T16:03:04.763Z"
   },
   {
    "duration": 74,
    "start_time": "2023-12-10T16:03:13.626Z"
   },
   {
    "duration": 16,
    "start_time": "2023-12-10T16:03:14.011Z"
   },
   {
    "duration": 14,
    "start_time": "2023-12-10T16:03:14.699Z"
   },
   {
    "duration": 11,
    "start_time": "2023-12-10T16:03:16.235Z"
   },
   {
    "duration": 36,
    "start_time": "2023-12-10T16:03:16.723Z"
   },
   {
    "duration": 4,
    "start_time": "2023-12-10T16:03:18.291Z"
   },
   {
    "duration": 8,
    "start_time": "2023-12-10T16:03:19.323Z"
   },
   {
    "duration": 4,
    "start_time": "2023-12-10T16:03:28.828Z"
   },
   {
    "duration": 8,
    "start_time": "2023-12-10T16:03:32.659Z"
   },
   {
    "duration": 5,
    "start_time": "2023-12-10T16:03:33.052Z"
   },
   {
    "duration": 49,
    "start_time": "2023-12-10T16:03:33.684Z"
   },
   {
    "duration": 17,
    "start_time": "2023-12-10T16:03:34.525Z"
   },
   {
    "duration": 4,
    "start_time": "2023-12-10T16:03:35.964Z"
   },
   {
    "duration": 12,
    "start_time": "2023-12-10T16:03:38.965Z"
   },
   {
    "duration": 20,
    "start_time": "2023-12-10T16:03:39.357Z"
   },
   {
    "duration": 17,
    "start_time": "2023-12-10T16:03:39.565Z"
   },
   {
    "duration": 4,
    "start_time": "2023-12-10T16:03:46.509Z"
   },
   {
    "duration": 11,
    "start_time": "2023-12-10T16:03:47.142Z"
   },
   {
    "duration": 9,
    "start_time": "2023-12-10T16:03:49.750Z"
   },
   {
    "duration": 3,
    "start_time": "2023-12-10T16:03:50.845Z"
   },
   {
    "duration": 9,
    "start_time": "2023-12-10T16:03:51.317Z"
   },
   {
    "duration": 9,
    "start_time": "2023-12-10T16:22:37.212Z"
   },
   {
    "duration": 12,
    "start_time": "2023-12-10T16:23:31.601Z"
   },
   {
    "duration": 33,
    "start_time": "2023-12-10T16:29:06.164Z"
   },
   {
    "duration": 9,
    "start_time": "2023-12-10T16:29:50.752Z"
   },
   {
    "duration": 12,
    "start_time": "2023-12-10T16:32:04.019Z"
   },
   {
    "duration": 56,
    "start_time": "2023-12-10T16:32:39.687Z"
   },
   {
    "duration": 54,
    "start_time": "2023-12-10T16:32:43.742Z"
   },
   {
    "duration": 53,
    "start_time": "2023-12-10T16:33:45.164Z"
   },
   {
    "duration": 49,
    "start_time": "2023-12-10T16:34:23.351Z"
   },
   {
    "duration": 74,
    "start_time": "2023-12-10T16:34:30.434Z"
   },
   {
    "duration": 55,
    "start_time": "2023-12-10T16:34:36.368Z"
   },
   {
    "duration": 11,
    "start_time": "2023-12-10T16:34:47.505Z"
   },
   {
    "duration": 11,
    "start_time": "2023-12-10T16:35:05.850Z"
   },
   {
    "duration": 57,
    "start_time": "2023-12-10T16:39:07.119Z"
   },
   {
    "duration": 10,
    "start_time": "2023-12-10T16:39:18.024Z"
   },
   {
    "duration": 20,
    "start_time": "2023-12-10T16:39:26.112Z"
   },
   {
    "duration": 15,
    "start_time": "2023-12-10T16:40:08.548Z"
   },
   {
    "duration": 10,
    "start_time": "2023-12-10T16:40:16.405Z"
   },
   {
    "duration": 16,
    "start_time": "2023-12-10T16:40:19.349Z"
   },
   {
    "duration": 10,
    "start_time": "2023-12-10T16:40:26.125Z"
   },
   {
    "duration": 17,
    "start_time": "2023-12-10T16:41:36.124Z"
   },
   {
    "duration": 14,
    "start_time": "2023-12-10T16:41:51.069Z"
   },
   {
    "duration": 14,
    "start_time": "2023-12-10T16:41:59.013Z"
   },
   {
    "duration": 15,
    "start_time": "2023-12-10T16:42:56.690Z"
   },
   {
    "duration": 14,
    "start_time": "2023-12-10T16:43:01.018Z"
   },
   {
    "duration": 18,
    "start_time": "2023-12-10T16:43:07.331Z"
   },
   {
    "duration": 19,
    "start_time": "2023-12-10T16:54:17.657Z"
   },
   {
    "duration": 548,
    "start_time": "2023-12-10T16:54:32.101Z"
   },
   {
    "duration": 18,
    "start_time": "2023-12-10T16:54:42.533Z"
   },
   {
    "duration": 24,
    "start_time": "2023-12-10T16:54:54.398Z"
   },
   {
    "duration": 46,
    "start_time": "2023-12-10T16:55:19.441Z"
   },
   {
    "duration": 21,
    "start_time": "2023-12-10T16:55:24.640Z"
   },
   {
    "duration": 604,
    "start_time": "2023-12-10T16:57:32.625Z"
   },
   {
    "duration": 577,
    "start_time": "2023-12-10T16:58:17.984Z"
   },
   {
    "duration": 567,
    "start_time": "2023-12-10T16:58:34.753Z"
   },
   {
    "duration": 637,
    "start_time": "2023-12-10T16:58:54.650Z"
   },
   {
    "duration": 21,
    "start_time": "2023-12-10T16:59:02.546Z"
   },
   {
    "duration": 10,
    "start_time": "2023-12-10T17:03:01.999Z"
   },
   {
    "duration": 10,
    "start_time": "2023-12-10T17:04:51.631Z"
   },
   {
    "duration": 4,
    "start_time": "2023-12-10T17:10:46.205Z"
   },
   {
    "duration": 9,
    "start_time": "2023-12-10T17:10:52.414Z"
   },
   {
    "duration": 8,
    "start_time": "2023-12-10T17:10:58.743Z"
   },
   {
    "duration": 13,
    "start_time": "2023-12-10T17:14:07.886Z"
   },
   {
    "duration": 12,
    "start_time": "2023-12-10T17:35:51.795Z"
   },
   {
    "duration": 10,
    "start_time": "2023-12-10T17:41:43.334Z"
   },
   {
    "duration": 9,
    "start_time": "2023-12-10T17:42:04.210Z"
   },
   {
    "duration": 11,
    "start_time": "2023-12-10T17:42:25.555Z"
   },
   {
    "duration": 11,
    "start_time": "2023-12-10T17:45:20.363Z"
   },
   {
    "duration": 9,
    "start_time": "2023-12-10T17:45:21.537Z"
   },
   {
    "duration": 15,
    "start_time": "2023-12-10T17:47:09.877Z"
   },
   {
    "duration": 14,
    "start_time": "2023-12-10T17:55:15.660Z"
   },
   {
    "duration": 7,
    "start_time": "2023-12-10T17:58:33.029Z"
   },
   {
    "duration": 14,
    "start_time": "2023-12-10T17:58:42.877Z"
   },
   {
    "duration": 8,
    "start_time": "2023-12-10T17:58:46.718Z"
   },
   {
    "duration": 14,
    "start_time": "2023-12-10T18:05:17.350Z"
   },
   {
    "duration": 9,
    "start_time": "2023-12-10T18:05:19.592Z"
   },
   {
    "duration": 2,
    "start_time": "2023-12-10T18:05:23.471Z"
   },
   {
    "duration": 15,
    "start_time": "2023-12-10T18:06:32.757Z"
   },
   {
    "duration": 14,
    "start_time": "2023-12-10T18:07:32.771Z"
   },
   {
    "duration": 14,
    "start_time": "2023-12-10T18:07:44.364Z"
   },
   {
    "duration": 9,
    "start_time": "2023-12-10T18:07:47.612Z"
   },
   {
    "duration": 15,
    "start_time": "2023-12-10T18:08:21.694Z"
   },
   {
    "duration": 47,
    "start_time": "2023-12-10T20:06:04.344Z"
   },
   {
    "duration": 17,
    "start_time": "2023-12-10T20:07:24.454Z"
   },
   {
    "duration": 10,
    "start_time": "2023-12-10T20:09:55.227Z"
   },
   {
    "duration": 10,
    "start_time": "2023-12-10T20:10:07.980Z"
   },
   {
    "duration": 22,
    "start_time": "2023-12-10T20:11:59.598Z"
   },
   {
    "duration": 9,
    "start_time": "2023-12-10T20:12:50.666Z"
   },
   {
    "duration": 21,
    "start_time": "2023-12-10T20:12:59.963Z"
   },
   {
    "duration": 11,
    "start_time": "2023-12-10T20:13:13.771Z"
   },
   {
    "duration": 12,
    "start_time": "2023-12-10T20:13:48.639Z"
   },
   {
    "duration": 10,
    "start_time": "2023-12-10T20:14:06.305Z"
   },
   {
    "duration": 10,
    "start_time": "2023-12-10T20:14:18.217Z"
   },
   {
    "duration": 10,
    "start_time": "2023-12-10T20:18:58.680Z"
   },
   {
    "duration": 10,
    "start_time": "2023-12-10T20:19:33.051Z"
   },
   {
    "duration": 12,
    "start_time": "2023-12-10T20:20:00.573Z"
   },
   {
    "duration": 12,
    "start_time": "2023-12-10T20:20:09.454Z"
   },
   {
    "duration": 13,
    "start_time": "2023-12-10T20:23:33.686Z"
   },
   {
    "duration": 54,
    "start_time": "2023-12-10T20:27:50.971Z"
   }
  ],
  "colab": {
   "provenance": []
  },
  "kernelspec": {
   "display_name": "Python 3 (ipykernel)",
   "language": "python",
   "name": "python3"
  },
  "language_info": {
   "codemirror_mode": {
    "name": "ipython",
    "version": 3
   },
   "file_extension": ".py",
   "mimetype": "text/x-python",
   "name": "python",
   "nbconvert_exporter": "python",
   "pygments_lexer": "ipython3",
   "version": "3.11.5"
  },
  "toc": {
   "base_numbering": 1,
   "nav_menu": {},
   "number_sections": true,
   "sideBar": true,
   "skip_h1_title": true,
   "title_cell": "Table of Contents",
   "title_sidebar": "Contents",
   "toc_cell": false,
   "toc_position": {},
   "toc_section_display": true,
   "toc_window_display": true
  }
 },
 "nbformat": 4,
 "nbformat_minor": 5
}
